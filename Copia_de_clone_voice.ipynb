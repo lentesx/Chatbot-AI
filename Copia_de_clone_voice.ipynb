{
  "cells": [
    {
      "cell_type": "markdown",
      "metadata": {
        "id": "view-in-github",
        "colab_type": "text"
      },
      "source": [
        "<a href=\"https://colab.research.google.com/github/lentesx/Chatbot-AI/blob/main/Copia_de_clone_voice.ipynb\" target=\"_parent\"><img src=\"https://colab.research.google.com/assets/colab-badge.svg\" alt=\"Open In Colab\"/></a>"
      ]
    },
    {
      "cell_type": "code",
      "execution_count": null,
      "metadata": {
        "id": "RJvm-Al4L9ZE"
      },
      "outputs": [],
      "source": [
        "%cd /content\n",
        "from google.colab import drive\n",
        "drive.mount('/content/drive')\n",
        "\n",
        "%env PYTHONDONTWRITEBYTECODE=1\n",
        "%cd /content/drive/MyDrive/clone-voice"
      ]
    },
    {
      "cell_type": "code",
      "execution_count": null,
      "metadata": {
        "id": "QS4ifgmeMkiD"
      },
      "outputs": [],
      "source": [
        "!git clone https://github.com/jianchang512/clone-voice.git"
      ]
    },
    {
      "cell_type": "code",
      "execution_count": null,
      "metadata": {
        "id": "v9b0FuDZNPfw"
      },
      "outputs": [],
      "source": [
        "%cd /content/clone-voice"
      ]
    },
    {
      "cell_type": "code",
      "execution_count": null,
      "metadata": {
        "id": "uVmJn8N0NrV4"
      },
      "outputs": [],
      "source": [
        "# !apt install python3.10-venv -y\n",
        "# !pip install virtualenv\n",
        "# !virtualenv -p python3 venv1\n",
        "# !. venv1/bin/activate"
      ]
    },
    {
      "cell_type": "code",
      "execution_count": null,
      "metadata": {
        "id": "eD_lz9uSON_t"
      },
      "outputs": [],
      "source": [
        "!pip install torch==2.1.2\n",
        "!pip install torchaudio==2.1.2\n",
        "!pip install -r requirements.txt\n",
        "!pip install python-dotenv"
      ]
    },
    {
      "cell_type": "code",
      "source": [
        "!pip uninstall numpy\n",
        "!pip install numpy"
      ],
      "metadata": {
        "id": "VcRu3rQnZe2B"
      },
      "execution_count": null,
      "outputs": []
    },
    {
      "cell_type": "code",
      "execution_count": null,
      "metadata": {
        "id": "VMLi-XQdSi1o"
      },
      "outputs": [],
      "source": [
        "!wget https://johnvansickle.com/ffmpeg/releases/ffmpeg-release-amd64-static.tar.xz"
      ]
    },
    {
      "cell_type": "code",
      "execution_count": null,
      "metadata": {
        "id": "UZ6V8coKTkqQ"
      },
      "outputs": [],
      "source": [
        "# prompt: 解压.xz\n",
        "\n",
        "!tar xvf ffmpeg-release-amd64-static.tar.xz\n",
        "!cp ffmpeg-6.1-amd64-static/ffmpeg ./"
      ]
    },
    {
      "cell_type": "code",
      "execution_count": null,
      "metadata": {
        "id": "0N-koV2UT1Xp"
      },
      "outputs": [],
      "source": [
        "!python  code_dev.py"
      ]
    },
    {
      "cell_type": "code",
      "execution_count": null,
      "metadata": {
        "id": "yq2ekiHWVT7v"
      },
      "outputs": [],
      "source": [
        "!ssh-keygen -q -t rsa -N '' -f ~/.ssh/id_rsa <<<y\n",
        "!ssh-keyscan -t rsa remote.moe >> ~/.ssh/known_hosts\n",
        "!python app.py & ssh -R 80:localhost:9988 remote.moe"
      ]
    }
  ],
  "metadata": {
    "colab": {
      "provenance": [],
      "gpuType": "T4",
      "include_colab_link": true
    },
    "kernelspec": {
      "display_name": "Python 3",
      "name": "python3"
    },
    "language_info": {
      "name": "python"
    },
    "accelerator": "GPU"
  },
  "nbformat": 4,
  "nbformat_minor": 0
}